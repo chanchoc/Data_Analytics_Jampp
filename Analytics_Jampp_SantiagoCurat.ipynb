{
 "cells": [
  {
   "cell_type": "markdown",
   "metadata": {},
   "source": [
    "# ANALYTICS"
   ]
  },
  {
   "cell_type": "markdown",
   "metadata": {},
   "source": [
    "QUERY \n",
    "\n",
    "WITH events AS (<br>\n",
    "&emsp;SELECT <br>\n",
    "&emsp;&emsp;device_id,<br>\n",
    "&emsp;&emsp;time_stamp,<br>\n",
    "&emsp;&emsp;LEAD(time_stamp) OVER (PARTITION BY device_id ORDER BY time_stamp) AS next_time_stamp<br>\n",
    "&emsp;FROM events_table<br>\n",
    "&emsp;WHERE month = '201908'<br>\n",
    "&emsp;AND app_id = 1<br>\n",
    "&emsp;AND event_id = 4<br>\n",
    "),<br>\n",
    "per_event AS(<br>\n",
    "&emsp;SELECT<br>\n",
    "&emsp;&emsp;device_id,<br>\n",
    "&emsp;&emsp;DATE_DIFF('second', time_stamp, next_time_stamp) AS time_diff<br>\n",
    "&emsp;FROM events<br>\n",
    ")<br>\n",
    "SELECT<br>\n",
    "&emsp;device_id,<br>\n",
    "&emsp;AVG(time_diff) AS avg_per_user<br>\n",
    "FROM per_event<br>\n",
    "GROUP BY 1;<br>"
   ]
  },
  {
   "cell_type": "markdown",
   "metadata": {},
   "source": [
    "## EXPLANATION\n",
    "\n",
    "1. First of all we declare a Common Table Expression ('events') in which we have 3 different columns:\n",
    "    - 'device_id' = Unique identification of users.\n",
    "    - 'time_stamp' = Specific time in which an event happens.\n",
    "    - 'next_time_stamp' = Here we get the next time stamp depending on the user and ordered by time stamp.\n",
    "    - This table selects the information from 'events_table'. It only asks for just one type of event (event_id = 4) that happened during August of 2019 (month = '201908'), in just 1 of the Clients (app_id = 1). \n",
    "2. We declare a second Common Table Expression ('per_event') in which we have 2 columns:\n",
    "    - 'device_id'\n",
    "    - 'time_diff' = Here we get the difference (in seconds) between 'time_stamp' and 'next_time_stamp'.\n",
    "    - This table selects its information from our previous table 'events'. It has no clauses.\n",
    "3. Finally we have our SELECT:\n",
    "    - 'device_id'\n",
    "    - 'avg_per_user' = Here we get the average time difference (difference between time stamps) of every user.\n",
    "    - This table selects all its information from 'per_event'. The 'GROUP BY 1' groups the AVG(time_diff) by our first column, that in this case is 'device_id'.\n",
    "\n",
    "### To sum up, this query generates a two column table ('device_id' and 'avg_per_user') in which we have the average time difference every unique user of a certain app (1) took to do the same event (4) during August of 2019."
   ]
  },
  {
   "cell_type": "markdown",
   "metadata": {},
   "source": [
    "# BUSINESS SIDE\n",
    "\n",
    "A way in which this Query could be used as a trigger in the business side is, for example, if we take 'Opening the App' as it was the 'event_id', we could start to notice when a certain user or group of users is becoming inactive.<br>\n",
    "This way, we can start to make some specific bidding for those clients in order to get them to use the app more frequently."
   ]
  }
 ],
 "metadata": {
  "kernelspec": {
   "display_name": "Python 3",
   "language": "python",
   "name": "python3"
  },
  "language_info": {
   "codemirror_mode": {
    "name": "ipython",
    "version": 3
   },
   "file_extension": ".py",
   "mimetype": "text/x-python",
   "name": "python",
   "nbconvert_exporter": "python",
   "pygments_lexer": "ipython3",
   "version": "3.7.4"
  }
 },
 "nbformat": 4,
 "nbformat_minor": 4
}
