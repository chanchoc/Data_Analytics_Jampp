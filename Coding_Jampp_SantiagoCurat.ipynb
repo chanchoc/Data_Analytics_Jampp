{
 "cells": [
  {
   "cell_type": "markdown",
   "metadata": {},
   "source": [
    "# ORIGINAL CODE"
   ]
  },
  {
   "cell_type": "code",
   "execution_count": 1,
   "metadata": {},
   "outputs": [],
   "source": [
    "import random"
   ]
  },
  {
   "cell_type": "code",
   "execution_count": 2,
   "metadata": {},
   "outputs": [],
   "source": [
    "def weighted_random(values, weights):\n",
    "    total_weight = sum(weights) # Always sums 1\n",
    "    acum_weights = [w / total_weight for w in weights[:]] # They always stay the same because I'm dividing by 1!\n",
    "    for i in range(len(weights)):\n",
    "        acum_weights[i] += acum_weights[i] # Here I'm just multiplying every weight by 2 \n",
    "    rand = random.random()\n",
    "    for value, weight in zip(values, acum_weights): # I'm creating tuples -> (1,1)(2,0.6)(3,0.4)\n",
    "        if weight > rand: # rand is always between [0;1) -> I'm always gonna return 1!\n",
    "            return value"
   ]
  },
  {
   "cell_type": "code",
   "execution_count": 3,
   "metadata": {},
   "outputs": [
    {
     "data": {
      "text/plain": [
       "1"
      ]
     },
     "execution_count": 3,
     "metadata": {},
     "output_type": "execute_result"
    }
   ],
   "source": [
    "weighted_random([1,2,3],[0.5,0.3,0.2])"
   ]
  },
  {
   "cell_type": "markdown",
   "metadata": {},
   "source": [
    "As I commented in the Code, this funcion will always return 1 in our example!<br>\n",
    "This is beacuse we are working incorrectly with the weights."
   ]
  },
  {
   "cell_type": "markdown",
   "metadata": {},
   "source": [
    "# CORRECTION"
   ]
  },
  {
   "cell_type": "markdown",
   "metadata": {},
   "source": [
    "What I am going to do is to create a list ('ranges') in which I have the limits in which the function is going to return every number depending on their weights.<br>\n",
    "For example, if I send:<br>\n",
    "weighted_random([1, 2, 3, 4, 5],[0.25, 0.25, 0.25, 0.20, 0.05])<br>\n",
    "My list 'ranges' should be something like this:<br>\n",
    "[[0, 0.25], [0.25, 0.5], [0.5, 0.75], [0.75, 0.95], [0.95, 1.0]]"
   ]
  },
  {
   "cell_type": "code",
   "execution_count": 4,
   "metadata": {},
   "outputs": [],
   "source": [
    "def weighted_random(values, weights):\n",
    "    start = 0\n",
    "    ranges = []\n",
    "    for i in weights:\n",
    "        l = []\n",
    "        l.append(start)\n",
    "        l.append(start + i)\n",
    "        start += i\n",
    "        ranges.append(l)\n",
    "    rand = random.random()\n",
    "    for value, prob in zip(values, ranges): # I create tuples\n",
    "        if prob[0] <= rand < prob[1]: # If rand is between the limits I return that number, if not I try with the next one\n",
    "            return value"
   ]
  },
  {
   "cell_type": "code",
   "execution_count": 5,
   "metadata": {},
   "outputs": [
    {
     "data": {
      "text/plain": [
       "3"
      ]
     },
     "execution_count": 5,
     "metadata": {},
     "output_type": "execute_result"
    }
   ],
   "source": [
    "weighted_random([1,2,3,4],[0.25,0.25,0.25,0.25])"
   ]
  },
  {
   "cell_type": "markdown",
   "metadata": {},
   "source": [
    "# SOLUTION USING NUMPY\n",
    "\n",
    "There is even an easier way using the numpy library"
   ]
  },
  {
   "cell_type": "code",
   "execution_count": 6,
   "metadata": {},
   "outputs": [],
   "source": [
    "import numpy as np"
   ]
  },
  {
   "cell_type": "code",
   "execution_count": 7,
   "metadata": {},
   "outputs": [],
   "source": [
    "def weighted_random(values, weights):\n",
    "    return np.random.choice(values, p=weights)"
   ]
  },
  {
   "cell_type": "code",
   "execution_count": 8,
   "metadata": {},
   "outputs": [
    {
     "data": {
      "text/plain": [
       "2"
      ]
     },
     "execution_count": 8,
     "metadata": {},
     "output_type": "execute_result"
    }
   ],
   "source": [
    "weighted_random([1,2,3,4],[0.25,0.25,0.25,0.25])"
   ]
  }
 ],
 "metadata": {
  "kernelspec": {
   "display_name": "Python 3",
   "language": "python",
   "name": "python3"
  },
  "language_info": {
   "codemirror_mode": {
    "name": "ipython",
    "version": 3
   },
   "file_extension": ".py",
   "mimetype": "text/x-python",
   "name": "python",
   "nbconvert_exporter": "python",
   "pygments_lexer": "ipython3",
   "version": "3.7.4"
  }
 },
 "nbformat": 4,
 "nbformat_minor": 4
}
